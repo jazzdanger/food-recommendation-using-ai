{
 "cells": [
  {
   "cell_type": "code",
   "execution_count": 1,
   "id": "476618c9-d057-472d-baff-5e2bd68f2adc",
   "metadata": {},
   "outputs": [
    {
     "name": "stdout",
     "output_type": "stream",
     "text": [
      "* Running on local URL:  http://127.0.0.1:7861\n",
      "* To create a public link, set `share=True` in `launch()`.\n"
     ]
    },
    {
     "data": {
      "text/html": [
       "<div><iframe src=\"http://127.0.0.1:7861/\" width=\"100%\" height=\"500\" allow=\"autoplay; camera; microphone; clipboard-read; clipboard-write;\" frameborder=\"0\" allowfullscreen></iframe></div>"
      ],
      "text/plain": [
       "<IPython.core.display.HTML object>"
      ]
     },
     "metadata": {},
     "output_type": "display_data"
    },
    {
     "data": {
      "text/plain": []
     },
     "execution_count": 1,
     "metadata": {},
     "output_type": "execute_result"
    }
   ],
   "source": [
    "import gradio as gr\n",
    "import requests\n",
    "import json\n",
    "\n",
    "# The API key will be automatically provided by the Canvas environment if left as an empty string.\n",
    "# DO NOT hardcode your API key here in a real application for security reasons.\n",
    "# If you were running this code outside of Canvas, you would replace \"\" with your actual API key.\n",
    "API_KEY = \"\"\n",
    "\n",
    "def my_google_llm(cuisine_type, meal_type):\n",
    "    \"\"\"\n",
    "    This function takes a cuisine type and a meal type, then uses the Google Gemini API\n",
    "    to suggest 5 food options.\n",
    "\n",
    "    Args:\n",
    "        cuisine_type (str): The type of cuisine (e.g., 'Italian', 'Indian').\n",
    "        meal_type (str): The type of meal (e.g., 'lunch', 'dinner', 'breakfast').\n",
    "\n",
    "    Returns:\n",
    "        str: 5 food options or an error message if something goes wrong.\n",
    "    \"\"\"\n",
    "    try:\n",
    "        # Construct the prompt for the LLM based on user input\n",
    "        # Now asking for 5 specific food options based on cuisine and meal type\n",
    "        user_message_content = (\n",
    "            f\"For a {meal_type} meal, focusing on {cuisine_type} cuisine, \"\n",
    "            f\"please suggest 5 distinct and delicious food options. \"\n",
    "            f\"List them clearly, perhaps with a short description for each.\"\n",
    "        )\n",
    "\n",
    "        # Define the message structure for the Gemini API\n",
    "        payload = {\n",
    "            \"contents\": [\n",
    "                {\n",
    "                    \"role\": \"user\",\n",
    "                    \"parts\": [\n",
    "                        # UPDATED SYSTEM PROMPT:\n",
    "                        # Instructs the AI to act as a food expert and provide specific options,\n",
    "                        # explicitly stating to give 5 distinct food items.\n",
    "                        {\"text\": \"You are an AI assistant specialized in culinary recommendations. When asked for food options based on cuisine and meal type, you will generate 5 distinct and delicious food options. Always provide specific dish names and brief descriptions. Do not suggest using external search engines or disclaim lack of real-time data.\"},\n",
    "                        {\"text\": user_message_content}\n",
    "                    ]\n",
    "                }\n",
    "            ]\n",
    "        }\n",
    "\n",
    "        # Define the API URL for the gemini-1.5-flash model\n",
    "        api_url = f\"https://generativelanguage.googleapis.com/v1beta/models/gemini-1.5-flash:generateContent?key=\"\n",
    "\n",
    "        # Make the POST request to the Gemini API\n",
    "        headers = {\"Content-Type\": \"application/json\"}\n",
    "        response = requests.post(api_url, headers=headers, data=json.dumps(payload))\n",
    "        \n",
    "        # Raise an HTTPError for bad responses (4xx or 5xx)\n",
    "        response.raise_for_status() \n",
    "\n",
    "        # Parse the JSON response from the API\n",
    "        result = response.json()\n",
    "\n",
    "        # Extract the generated text content from the response\n",
    "        if (result.get(\"candidates\") and len(result[\"candidates\"]) > 0 and\n",
    "            result[\"candidates\"][0].get(\"content\") and\n",
    "            result[\"candidates\"][0][\"content\"].get(\"parts\") and\n",
    "            len(result[\"candidates\"][0][\"content\"][\"parts\"]) > 0):\n",
    "            return result[\"candidates\"][0][\"content\"][\"parts\"][0][\"text\"]\n",
    "        else:\n",
    "            # Handle cases where the response structure is unexpected or content is missing\n",
    "            return \"Could not retrieve valid food options from the AI model. The response structure was unexpected.\"\n",
    "\n",
    "    except requests.exceptions.RequestException as e:\n",
    "        # Catch network-related errors or bad HTTP responses\n",
    "        return f\"Error connecting to the Gemini API: {e}. Please check your internet connection or API key.\"\n",
    "    except json.JSONDecodeError:\n",
    "        # Catch errors if the response is not valid JSON\n",
    "        return \"Error decoding the API response. The response might not be in a valid JSON format.\"\n",
    "    except Exception as e:\n",
    "        # Catch any other unexpected errors\n",
    "        return f\"An unexpected error occurred: {e}\"\n",
    "\n",
    "# Create the Gradio interface for the food recommendation assistant\n",
    "pr = gr.Interface(\n",
    "    fn=my_google_llm,\n",
    "    inputs=[\n",
    "        gr.Textbox(label=\"Cuisine Type (e.g., 'Italian', 'Indian', 'Mexican')\", lines=1),\n",
    "        gr.Textbox(label=\"Meal Type (e.g., 'breakfast', 'lunch', 'dinner', 'snack')\", lines=1)\n",
    "    ],\n",
    "    outputs=\"text\",\n",
    "    title=\"🍽️ Food Option Suggester 🧑‍🍳\",\n",
    "    description=\"Tell me the cuisine and meal type, and I'll suggest 5 delicious food options!\"\n",
    ")\n",
    "\n",
    "# Launch the Gradio application\n",
    "pr.launch()\n"
   ]
  },
  {
   "cell_type": "code",
   "execution_count": null,
   "id": "7f41483f-5e1e-4694-b425-ec7d84c403bc",
   "metadata": {},
   "outputs": [],
   "source": []
  }
 ],
 "metadata": {
  "kernelspec": {
   "display_name": "Python [conda env:base] *",
   "language": "python",
   "name": "conda-base-py"
  },
  "language_info": {
   "codemirror_mode": {
    "name": "ipython",
    "version": 3
   },
   "file_extension": ".py",
   "mimetype": "text/x-python",
   "name": "python",
   "nbconvert_exporter": "python",
   "pygments_lexer": "ipython3",
   "version": "3.12.7"
  }
 },
 "nbformat": 4,
 "nbformat_minor": 5
}
